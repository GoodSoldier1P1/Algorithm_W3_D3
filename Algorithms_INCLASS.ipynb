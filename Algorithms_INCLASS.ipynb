{
 "cells": [
  {
   "cell_type": "markdown",
   "metadata": {},
   "source": [
    "# Algorithms, Binary Search & Linked Lists"
   ]
  },
  {
   "cell_type": "markdown",
   "metadata": {},
   "source": [
    "## Tasks Today:\n",
    " \n",
    "1) <b>In-Place Algorithms</b> <br>\n",
    " &nbsp;&nbsp;&nbsp;&nbsp; a) Syntax <br>\n",
    " &nbsp;&nbsp;&nbsp;&nbsp; a) Out of Place Algorithm <br>\n",
    " &nbsp;&nbsp;&nbsp;&nbsp; b) In-Class Exercise #1 <br>\n",
    "2) <b>Two Pointers</b> <br>\n",
    "3) <b>Linked Lists</b> <br>\n",
    "4) <b>Merge Sort</b> <br>\n",
    " &nbsp;&nbsp;&nbsp;&nbsp; a) Video on Algorithms <br>\n",
    " &nbsp;&nbsp;&nbsp;&nbsp; b) How it Works <br>\n",
    "5) <b>Exercises</b> <br>\n",
    " &nbsp;&nbsp;&nbsp;&nbsp; a) Exercise #1 - Reverse a List in Place Using an In-Place Algorithm <br>\n",
    " &nbsp;&nbsp;&nbsp;&nbsp; b) Exercise #2 - Find Distinct Words <br>\n",
    " &nbsp;&nbsp;&nbsp;&nbsp; c) Exercise #3 - Write a program to implement a Linear Search Algorithm. <br>"
   ]
  },
  {
   "cell_type": "markdown",
   "metadata": {},
   "source": [
    "## In-Place Algorithms"
   ]
  },
  {
   "cell_type": "markdown",
   "metadata": {},
   "source": [
    "#### Syntax"
   ]
  },
  {
   "cell_type": "code",
   "execution_count": 3,
   "metadata": {},
   "outputs": [
    {
     "name": "stdout",
     "output_type": "stream",
     "text": [
      "1530641793472\n",
      "1530641793472\n"
     ]
    }
   ],
   "source": [
    "# inplace is an algorithm that modifies the original variable in its place in memory\n",
    "# these algos typically don't return anything. Because the variable fed is modified and changed and is already stored\n",
    "\n",
    "def swap(alist, x,y,z):\n",
    "    #reassign all at the same time\n",
    "    alist[x], alist[y], alist[z] = alist[y], alist[z], alist[x]\n",
    "\n",
    "my_list = [1,2,3]\n",
    "print(id(my_list))\n",
    "swap(my_list, 0, 1 ,2)  # have to feed it the indexes\n",
    "\n",
    "print(id(my_list))\n"
   ]
  },
  {
   "cell_type": "markdown",
   "metadata": {},
   "source": [
    "#### Out of Place Algorithm"
   ]
  },
  {
   "cell_type": "code",
   "execution_count": 4,
   "metadata": {},
   "outputs": [
    {
     "name": "stdout",
     "output_type": "stream",
     "text": [
      "1530641820224\n",
      "[3, 2, 1]\n",
      "1530641819968\n"
     ]
    }
   ],
   "source": [
    "# out of place algorithms don't modify the original, they use the values, but restore the modifications in a new place in memory\n",
    "\n",
    "def out_swap(alist):\n",
    "    output = []\n",
    "    for ele in alist[::-1]:\n",
    "        output.append(ele)\n",
    "    return output\n",
    "\n",
    "my_list = [1,2,3]\n",
    "\n",
    "print(id(my_list))\n",
    "\n",
    "my_list = out_swap(my_list)\n",
    "\n",
    "print(my_list)\n",
    "print(id(my_list))"
   ]
  },
  {
   "cell_type": "markdown",
   "metadata": {},
   "source": [
    "#### In-Class Exercise #1 <br>\n",
    "<p>Write a function that takes in four arguments (list, index1, index2, index3), and swaps those three positions in the list passed in.</p>"
   ]
  },
  {
   "cell_type": "code",
   "execution_count": 5,
   "metadata": {},
   "outputs": [
    {
     "name": "stdout",
     "output_type": "stream",
     "text": [
      "[10, 3, 8, 4, 4, 2, 6]\n"
     ]
    }
   ],
   "source": [
    "l_1 = [10, 4, 3, 8, 4, 2, 6]\n",
    "\n",
    "def swap(alist, x,y,z):\n",
    "    #reassign all at the same time\n",
    "    alist[x], alist[y], alist[z] = alist[y], alist[z], alist[x]\n",
    "\n",
    "swap(l_1, 1,2,3)\n",
    "print(l_1)"
   ]
  },
  {
   "cell_type": "markdown",
   "metadata": {},
   "source": [
    "## Two Pointers"
   ]
  },
  {
   "cell_type": "markdown",
   "metadata": {},
   "source": [
    "#### Syntax"
   ]
  },
  {
   "cell_type": "code",
   "execution_count": 6,
   "metadata": {},
   "outputs": [
    {
     "name": "stdout",
     "output_type": "stream",
     "text": [
      "[6, 5, 4, 3, 2, 1]\n"
     ]
    }
   ],
   "source": [
    "# an algorithm that keeps track of two indicese (two pointer)\n",
    "# keeping track of two seperate indicese\n",
    "\n",
    "\n",
    "### HIGH PRIORITY TO KNOW\n",
    "#### WILL HELP A TON IN THE FUTURE\n",
    "\n",
    "this_list = [1,2,3,4,5,6]\n",
    "\n",
    "def two_p_swap(alist):\n",
    "    left = 0\n",
    "    right = len(alist) -1 #more secure than just -1\n",
    "    while left <= right:\n",
    "        alist[left], alist[right] = alist[right], alist[left]\n",
    "        left += 1\n",
    "        right -= 1\n",
    "\n",
    "two_p_swap(this_list)\n",
    "print(this_list)"
   ]
  },
  {
   "cell_type": "markdown",
   "metadata": {},
   "source": [
    "#### Video of Algorithms <br>\n",
    "<p>Watch the video about algorithms.</p>\n",
    "\n",
    "https://www.youtube.com/watch?v=Q9HjeFD62Uk\n",
    "\n",
    "https://www.youtube.com/watch?v=kPRA0W1kECg\n",
    "\n",
    "https://www.youtube.com/watch?v=ZZuD6iUe3Pc"
   ]
  },
  {
   "cell_type": "markdown",
   "metadata": {},
   "source": [
    "# Sorting Algorithms"
   ]
  },
  {
   "cell_type": "markdown",
   "metadata": {},
   "source": [
    "#### Bubble Sort\n",
    "\n",
    "Worst Case: O(n^2) Time - O(1) Space"
   ]
  },
  {
   "cell_type": "code",
   "execution_count": 15,
   "metadata": {},
   "outputs": [
    {
     "ename": "TypeError",
     "evalue": "'function' object is not subscriptable",
     "output_type": "error",
     "traceback": [
      "\u001b[1;31m---------------------------------------------------------------------------\u001b[0m",
      "\u001b[1;31mTypeError\u001b[0m                                 Traceback (most recent call last)",
      "\u001b[1;32mc:\\Users\\Rac\\Documents\\Coding Temple\\Thieves_133\\week3\\day3\\main\\Algorithms\\Algorithms_INCLASS.ipynb Cell 16\u001b[0m line \u001b[0;36m2\n\u001b[0;32m     <a href='vscode-notebook-cell:/c%3A/Users/Rac/Documents/Coding%20Temple/Thieves_133/week3/day3/main/Algorithms/Algorithms_INCLASS.ipynb#X21sZmlsZQ%3D%3D?line=17'>18</a>\u001b[0m                 swap[blist, index, index \u001b[39m+\u001b[39m \u001b[39m1\u001b[39m]\n\u001b[0;32m     <a href='vscode-notebook-cell:/c%3A/Users/Rac/Documents/Coding%20Temple/Thieves_133/week3/day3/main/Algorithms/Algorithms_INCLASS.ipynb#X21sZmlsZQ%3D%3D?line=18'>19</a>\u001b[0m                 isSorted \u001b[39m=\u001b[39m \u001b[39mFalse\u001b[39;00m\n\u001b[1;32m---> <a href='vscode-notebook-cell:/c%3A/Users/Rac/Documents/Coding%20Temple/Thieves_133/week3/day3/main/Algorithms/Algorithms_INCLASS.ipynb#X21sZmlsZQ%3D%3D?line=20'>21</a>\u001b[0m bubble(alist)\n\u001b[0;32m     <a href='vscode-notebook-cell:/c%3A/Users/Rac/Documents/Coding%20Temple/Thieves_133/week3/day3/main/Algorithms/Algorithms_INCLASS.ipynb#X21sZmlsZQ%3D%3D?line=21'>22</a>\u001b[0m alist\n",
      "\u001b[1;32mc:\\Users\\Rac\\Documents\\Coding Temple\\Thieves_133\\week3\\day3\\main\\Algorithms\\Algorithms_INCLASS.ipynb Cell 16\u001b[0m line \u001b[0;36m1\n\u001b[0;32m     <a href='vscode-notebook-cell:/c%3A/Users/Rac/Documents/Coding%20Temple/Thieves_133/week3/day3/main/Algorithms/Algorithms_INCLASS.ipynb#X21sZmlsZQ%3D%3D?line=14'>15</a>\u001b[0m \u001b[39mfor\u001b[39;00m index \u001b[39min\u001b[39;00m \u001b[39mrange\u001b[39m(\u001b[39mlen\u001b[39m(blist)\u001b[39m-\u001b[39m\u001b[39m1\u001b[39m):\n\u001b[0;32m     <a href='vscode-notebook-cell:/c%3A/Users/Rac/Documents/Coding%20Temple/Thieves_133/week3/day3/main/Algorithms/Algorithms_INCLASS.ipynb#X21sZmlsZQ%3D%3D?line=16'>17</a>\u001b[0m     \u001b[39mif\u001b[39;00m blist[index] \u001b[39m>\u001b[39m blist[index \u001b[39m+\u001b[39m \u001b[39m1\u001b[39m]: \u001b[39m# if the item on the left is > then item on right\u001b[39;00m\n\u001b[1;32m---> <a href='vscode-notebook-cell:/c%3A/Users/Rac/Documents/Coding%20Temple/Thieves_133/week3/day3/main/Algorithms/Algorithms_INCLASS.ipynb#X21sZmlsZQ%3D%3D?line=17'>18</a>\u001b[0m         swap[blist, index, index \u001b[39m+\u001b[39m \u001b[39m1\u001b[39m]\n\u001b[0;32m     <a href='vscode-notebook-cell:/c%3A/Users/Rac/Documents/Coding%20Temple/Thieves_133/week3/day3/main/Algorithms/Algorithms_INCLASS.ipynb#X21sZmlsZQ%3D%3D?line=18'>19</a>\u001b[0m         isSorted \u001b[39m=\u001b[39m \u001b[39mFalse\u001b[39;00m\n",
      "\u001b[1;31mTypeError\u001b[0m: 'function' object is not subscriptable"
     ]
    }
   ],
   "source": [
    "# places the next largest element in position with every single pass\n",
    "alist = [8,3,5,2,9,10,1,4]\n",
    "\n",
    "def swap(alist, x, y):\n",
    "    alist[x], alist[y] = alist[y], alist[x]\n",
    "\n",
    "def bubble(alist):\n",
    "    isSorted = False\n",
    "\n",
    "    while not isSorted:\n",
    "\n",
    "\n",
    "        isSorted = True\n",
    "\n",
    "        for index in range(len(alist)-1):\n",
    "\n",
    "            if alist[index] > alist[index + 1]: # if the item on the left is > then item on right\n",
    "                swap[alist, index, index + 1]\n",
    "                isSorted = False\n",
    "\n",
    "bubble(alist)\n",
    "alist"
   ]
  },
  {
   "cell_type": "markdown",
   "metadata": {},
   "source": [
    "##### Insertion Sort\n",
    "\n",
    "Worst Case: O(n^2) time - O(1)space"
   ]
  },
  {
   "cell_type": "code",
   "execution_count": 20,
   "metadata": {},
   "outputs": [
    {
     "name": "stdout",
     "output_type": "stream",
     "text": [
      "[8]\n",
      "3\n",
      "[8, 3]\n",
      "[3, 8]\n",
      "5\n",
      "[3, 8, 5]\n",
      "[3, 5, 8]\n",
      "2\n",
      "[3, 5, 8, 2]\n",
      "[3, 5, 2]\n",
      "[3, 2]\n",
      "[2, 3, 5, 8]\n",
      "9\n",
      "[2, 3, 5, 8, 9]\n",
      "10\n",
      "[2, 3, 5, 8, 9, 10]\n",
      "1\n",
      "[2, 3, 5, 8, 9, 10, 1]\n",
      "[2, 3, 5, 8, 9, 1]\n",
      "[2, 3, 5, 8, 1]\n",
      "[2, 3, 5, 1]\n",
      "[2, 3, 1]\n",
      "[2, 1]\n",
      "[1, 2, 3, 5, 8, 9, 10]\n",
      "4\n",
      "[1, 2, 3, 5, 8, 9, 10, 4]\n",
      "[1, 2, 3, 5, 8, 9, 4]\n",
      "[1, 2, 3, 5, 8, 4]\n",
      "[1, 2, 3, 5, 4]\n",
      "[1, 2, 3, 4, 5, 8, 9, 10]\n"
     ]
    }
   ],
   "source": [
    "# starting from beginning inserting the next value into the \"sorted\" values\n",
    "\n",
    "alist = [8,3,5,2,9,10,1,4]\n",
    "\n",
    "def swap(alist, x, y):\n",
    "    alist[x], alist[y] = alist[y], alist[x]\n",
    "\n",
    "\n",
    "def insertion(alist):\n",
    "    \n",
    "    for i in range(1, len(alist)):  # start at 2nd position. 1st is already sorted technically\n",
    "        print(alist[:i])\n",
    "        print(alist[i])\n",
    "        while i > 0 and alist[i] < alist[i-1]:\n",
    "            print(alist[:i+1])\n",
    "            swap(alist, i, i-1)\n",
    "            i -= 1\n",
    "\n",
    "insertion(alist)\n",
    "print(alist)"
   ]
  },
  {
   "cell_type": "markdown",
   "metadata": {},
   "source": [
    "## Merge Sort"
   ]
  },
  {
   "cell_type": "markdown",
   "metadata": {},
   "source": [
    "#### How it Works"
   ]
  },
  {
   "cell_type": "code",
   "execution_count": 21,
   "metadata": {},
   "outputs": [
    {
     "name": "stdout",
     "output_type": "stream",
     "text": [
      "[1, 2, 3, 4, 5, 8, 9, 10]\n"
     ]
    }
   ],
   "source": [
    "# can be more efficient\n",
    "alist = [8,3,5,2,9,10,1,4]\n",
    "\n",
    "def mergeSort(alist):\n",
    "    #use recursion\n",
    "    if len(alist) > 1:\n",
    "        # first step: split all the way down the left side(followed by the right side)\n",
    "\n",
    "        middle = len(alist) // 2 ## finds middle\n",
    "        left_half = alist[:middle]      ### performing the break\n",
    "        right_half = alist[middle:]\n",
    "\n",
    "        mergeSort(left_half)    # this will finish before it even touches the right half\n",
    "        mergeSort(right_half)\n",
    "\n",
    "        i = 0 # tracking left handed pointer\n",
    "        j = 0 # tracking right handed pointer\n",
    "        k = 0 # tracking main list pointer\n",
    "\n",
    "        # comparing and sorting the elements from left and right until one list is empty\n",
    "\n",
    "        while i < len(left_half) and j < len(right_half):\n",
    "            if left_half[i] < right_half[j]:\n",
    "                alist[k] = left_half[i] # insert at k\n",
    "                i += 1 # move i over 1 time\n",
    "            else:\n",
    "                alist[k] = right_half[j]\n",
    "                j += 1\n",
    "            k += 1 # move on to the next element... will happen until a list is empty\n",
    "        \n",
    "        # once a list is empty\n",
    "        # fill in from the other list\n",
    "\n",
    "        while i< len(left_half):    # fill in process if right is empty first\n",
    "            alist[k] = left_half[i]\n",
    "            i += 1\n",
    "            k += 1\n",
    "\n",
    "        while j < len(right_half):\n",
    "            alist[k] = right_half[j]\n",
    "            j += 1\n",
    "            k += 1\n",
    "\n",
    "    return alist\n",
    "\n",
    "print(mergeSort(alist))"
   ]
  },
  {
   "cell_type": "markdown",
   "metadata": {},
   "source": [
    "# Binary Search\n",
    "\n",
    "The Binary Search algorithm works by finding the number in the middle of a given array and comparing it to the target. Given that the array is sorted\n",
    "\n",
    "* The worst case run time for this algorithm is `O(log(n))`"
   ]
  },
  {
   "cell_type": "code",
   "execution_count": 24,
   "metadata": {},
   "outputs": [
    {
     "data": {
      "text/plain": [
       "'WINNER WINNER CHICKEN DINNER found 6 at index 5'"
      ]
     },
     "execution_count": 24,
     "metadata": {},
     "output_type": "execute_result"
    }
   ],
   "source": [
    "def binarSearch(alist, target):\n",
    "    left = 0\n",
    "    right = len(alist) - 1\n",
    "    while left <= right:\n",
    "        middle = (left + right) // 2\n",
    "        potential = alist[middle]\n",
    "        if target == potential:\n",
    "            return f'WINNER WINNER CHICKEN DINNER found {target} at index {middle}'\n",
    "        if target > potential:\n",
    "            left = middle + 1\n",
    "        elif target < potential:\n",
    "            right = middle - 1\n",
    "    return 'Target not found'\n",
    "\n",
    "binarSearch([1,2,3,4,5,6,7,8,22,45,64,78,90,1000], 6)"
   ]
  },
  {
   "cell_type": "markdown",
   "metadata": {},
   "source": [
    "# Exercises"
   ]
  },
  {
   "cell_type": "markdown",
   "metadata": {},
   "source": [
    "### Exercise #1 <br>\n",
    "<p>Reverse the list below in-place using an in-place algorithm.<br>For extra credit: Reverse the strings at the same time.</p>"
   ]
  },
  {
   "cell_type": "code",
   "execution_count": 97,
   "metadata": {},
   "outputs": [
    {
     "name": "stdout",
     "output_type": "stream",
     "text": [
      "['.', 'sentence', 'a', 'is', 'this']\n"
     ]
    }
   ],
   "source": [
    "# NO HARD CODING\n",
    "# use Two Pointers...\n",
    "# Making it flexible\n",
    "\n",
    "words = ['this' , 'is', 'a', 'sentence', '.']\n",
    "\n",
    "def reverse_it(alist):\n",
    "    reverse = []\n",
    "\n",
    "    left = 0\n",
    "    right = len(alist) - 1\n",
    "    while left <= right:\n",
    "        alist[left], alist[right] = alist[right], alist[left]\n",
    "        left += 1\n",
    "        right -= 1\n",
    "\n",
    "reverse_it(words)\n",
    "print(words)\n"
   ]
  },
  {
   "cell_type": "markdown",
   "metadata": {},
   "source": [
    "### Exercise #2 <br>\n",
    "<p>Create a function that counts how many distinct words are in the string below, then outputs a dictionary with the words as the key and the value as the amount of times that word appears in the string.<br>Should output:<br>{'a': 5,<br>\n",
    " 'abstract': 1,<br>\n",
    " 'an': 3,<br>\n",
    " 'array': 2, ... etc...</p>"
   ]
  },
  {
   "cell_type": "code",
   "execution_count": 66,
   "metadata": {},
   "outputs": [
    {
     "data": {
      "text/plain": [
       "{'a': 5,\n",
       " 'abstract': 1,\n",
       " 'an': 3,\n",
       " 'array': 2,\n",
       " 'associative': 1,\n",
       " 'be': 1,\n",
       " 'buckets': 1,\n",
       " 'can': 2,\n",
       " 'compute': 1,\n",
       " 'computing,': 1,\n",
       " 'data': 2,\n",
       " 'desired': 1,\n",
       " 'found': 1,\n",
       " 'from': 1,\n",
       " 'function': 1,\n",
       " 'hash': 4,\n",
       " 'implements': 1,\n",
       " 'in': 1,\n",
       " 'index': 1,\n",
       " 'into': 1,\n",
       " 'is': 1,\n",
       " 'keys': 1,\n",
       " 'map': 2,\n",
       " 'of': 1,\n",
       " 'or': 1,\n",
       " 'slots': 1,\n",
       " 'structure': 2,\n",
       " 'table': 2,\n",
       " 'that': 1,\n",
       " 'the': 1,\n",
       " 'to': 2,\n",
       " 'type,': 1,\n",
       " 'uses': 1,\n",
       " 'value': 1,\n",
       " 'values.': 1,\n",
       " 'which': 2}"
      ]
     },
     "execution_count": 66,
     "metadata": {},
     "output_type": "execute_result"
    }
   ],
   "source": [
    "# keep in mind.\n",
    "# casing, make case insensitive .split()...x.lower()?????\n",
    "\n",
    "# extra credit:\n",
    "# should be able to ignore punctuation. \n",
    "# HINT: .strip()\n",
    "\n",
    "a_text = 'In computing, a hash table hash map is a data structure which implements an associative array abstract data type, a structure that can map keys to values. A hash table uses a hash function to compute an index into an array of buckets or slots from which the desired value can be found'\n",
    "\n",
    "occur = {}\n",
    "\n",
    "def dict_of_occurrences(astring):\n",
    "    new_text = list(astring.split(' ')) # make it a list instead of a long string\n",
    "    \n",
    "    for word in new_text:\n",
    "        lowercase_it = word.lower() # make it case insensitive\n",
    "        if lowercase_it in occur:\n",
    "            occur[lowercase_it] += 1    # if it's already a key, increase its value\n",
    "        else:\n",
    "            occur[lowercase_it] = 1     # if it isn't a key, make it one and set the value to 1 occurrence\n",
    "\n",
    "    #### If it doesn't work delete from here, attempting to sort the dictionary by key\n",
    "    sorted_keys = list(occur.keys())    # make the keys a variable tied to a list\n",
    "    sorted_keys.sort()                  # sort em\n",
    "\n",
    "    sorted_occur = {}   # used to store the results for the printout (tried without and it printed out the number 2...I don't honestly know)\n",
    "\n",
    "    for i in sorted_keys:\n",
    "        sorted_occur[i] = occur[i]      # and assign the keys to the new dict in sorted order.\n",
    "    \n",
    "    return sorted_occur     # we want to return the sorted list or else the last 6 lines of code are useless\n",
    "\n",
    "\n",
    "dict_of_occurrences(a_text)\n",
    "\n",
    "\n",
    "# This one was the hardest for me to finish, so had to come back to it and do it last."
   ]
  },
  {
   "cell_type": "markdown",
   "metadata": {},
   "source": [
    "## Exercise #3\n",
    "\n",
    "Write a program to implement a Linear Search Algorithm. Also in a comment, write the Time Complexity of the following algorithm.\n",
    "\n",
    "#### Hint: Linear Searching will require searching a list for a given number. "
   ]
  },
  {
   "cell_type": "code",
   "execution_count": 84,
   "metadata": {},
   "outputs": [
    {
     "name": "stdout",
     "output_type": "stream",
     "text": [
      "Found 30 at index 11! Try harder next time\n",
      "None\n"
     ]
    }
   ],
   "source": [
    "# time complexity is linear.\n",
    "# funct(alist, target)\n",
    "# return target if in the list\n",
    "# is it the first ele? the second ele? the third ele?...\n",
    "#   is i == guess\n",
    "#       if i == guess return 'Found it, try harder next time!'\n",
    "#       else: return 'You got me, think simple minded for me >.<\n",
    "# NOT A BINARY SEARCH\n",
    "\n",
    "def linear_search(alist, target):\n",
    "    # I initially tried morphing the binary search into a linear. Spent about an hour doing this and didn't come up with anything good.\n",
    "\n",
    "    # I ended up trying a while loop and it didn't work so I switched to a for loop. This is what I broke it down to.\n",
    "    for i in range(len(alist)):\n",
    "        if alist[i] == target:      # check if the target is here. if it is, return the target and the index (i). \n",
    "            return f'Found {target} at index {i}! Try harder next time'\n",
    "        \n",
    "        # Else returns 'None'. I tried including this, but found that if it isn't here, it would only print the if statement and not 17 other else statements\n",
    "\n",
    "print(linear_search([1,2,3,4,5,6,7,8,9,10,20,30,40,50,60,70,80,90,100], 30))\n",
    "\n",
    "print(linear_search([1,2,3,4,5,6,7,8,9,10,20,30,40,50,60,70,80,90,100], 12))"
   ]
  }
 ],
 "metadata": {
  "kernelspec": {
   "display_name": "Python 3",
   "language": "python",
   "name": "python3"
  },
  "language_info": {
   "codemirror_mode": {
    "name": "ipython",
    "version": 3
   },
   "file_extension": ".py",
   "mimetype": "text/x-python",
   "name": "python",
   "nbconvert_exporter": "python",
   "pygments_lexer": "ipython3",
   "version": "3.7.6"
  }
 },
 "nbformat": 4,
 "nbformat_minor": 2
}
